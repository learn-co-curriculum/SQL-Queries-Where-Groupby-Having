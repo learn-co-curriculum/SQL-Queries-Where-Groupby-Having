{
 "cells": [
  {
   "cell_type": "markdown",
   "metadata": {},
   "source": [
    "<h1 style='text-align: center'>SQL Queries</h1>"
   ]
  },
  {
   "cell_type": "markdown",
   "metadata": {},
   "source": [
    "## Getting Data From A SQL Database"
   ]
  },
  {
   "cell_type": "markdown",
   "metadata": {},
   "source": [
    "### The Structure of a SQL Query"
   ]
  },
  {
   "cell_type": "markdown",
   "metadata": {},
   "source": [
    "<img src='images/sql_statement.jpg'/>"
   ]
  },
  {
   "cell_type": "markdown",
   "metadata": {},
   "source": [
    "#### SELECT"
   ]
  },
  {
   "cell_type": "markdown",
   "metadata": {},
   "source": [
    "- What columns of data do we want? \n",
    "- Specify by column names or * (All) "
   ]
  },
  {
   "cell_type": "markdown",
   "metadata": {},
   "source": [
    "- Where are we getting our data from? \n",
    "- Specify by table name or use join statement to join multiple tables"
   ]
  },
  {
   "cell_type": "markdown",
   "metadata": {},
   "source": [
    "##### JOIN "
   ]
  },
  {
   "cell_type": "markdown",
   "metadata": {},
   "source": [
    "- Use to join multiple tables \n",
    "- SELECT * FROM students join favorite_foods on students.id = favorite_foods.student_id\n",
    "- SELECT * FROM students as s join favorite_foods as f on s.id = f.student_id"
   ]
  },
  {
   "cell_type": "markdown",
   "metadata": {},
   "source": [
    "#### WHERE"
   ]
  },
  {
   "cell_type": "markdown",
   "metadata": {},
   "source": [
    "- apply some filter to the data you are querying \n",
    "- define criteria for data that should selected from the database \n",
    "- SELECT * from students WHERE age > 10 "
   ]
  },
  {
   "cell_type": "markdown",
   "metadata": {},
   "source": [
    "#### GROUP BY"
   ]
  },
  {
   "cell_type": "markdown",
   "metadata": {},
   "source": [
    "- Group columns by similar values\n",
    "- SELECT COUNT(id), city from students GROUP BY city"
   ]
  },
  {
   "cell_type": "markdown",
   "metadata": {},
   "source": [
    "#### HAVING"
   ]
  },
  {
   "cell_type": "markdown",
   "metadata": {},
   "source": [
    "- Use to apply filter AFTER a GROUP BY based on aggregate criteria \n",
    "- Where is applied for conditions prior to the Group BY, Having is applied afterwards\n",
    "\n",
    "For example, if we had a table of student names and the courses they were taking, we could ask a question such as which classes have 3 or more students with the name Matt?\n",
    "\n",
    "Such a query would look something like this:\n",
    "\n",
    "```SQL\n",
    "select class,\n",
    "       count(student_name) as number_of_matts\n",
    "       FROM student_courses\n",
    "       WHERE student_name = \"Matt\"\n",
    "       Group By 1\n",
    "       HAVING count(student_name) >= 3;\n",
    "```"
   ]
  },
  {
   "cell_type": "code",
   "execution_count": 1,
   "metadata": {},
   "outputs": [],
   "source": [
    "import sqlite3\n",
    "\n",
    "conn = sqlite3.connect('tutorial.db')\n",
    "c = conn.cursor()"
   ]
  },
  {
   "cell_type": "code",
   "execution_count": 2,
   "metadata": {
    "scrolled": true
   },
   "outputs": [],
   "source": [
    "columns = [x[0] for x in c.execute('select * from students').description]"
   ]
  },
  {
   "cell_type": "code",
   "execution_count": 3,
   "metadata": {
    "scrolled": true
   },
   "outputs": [
    {
     "data": {
      "text/plain": [
       "['name',\n",
       " 'birthdate',\n",
       " 'siblings',\n",
       " 'birth_place',\n",
       " 'years_in_nyc',\n",
       " 'favorite_food']"
      ]
     },
     "execution_count": 3,
     "metadata": {},
     "output_type": "execute_result"
    }
   ],
   "source": [
    "columns"
   ]
  },
  {
   "cell_type": "markdown",
   "metadata": {},
   "source": [
    "### Questions\n",
    "1. What are the names of all of the students?\n",
    "2. Which student has the most siblings?\n",
    "3. How many students are only children?\n",
    "4. Which 3 students have lived in NYC the shortest amount of time?\n",
    "5. How many students are native New Yorkers?\n",
    "6. Do any two students have the same favorite food?\n",
    "7. Which student was born closest to the cohort's graduation date?"
   ]
  }
 ],
 "metadata": {
  "kernelspec": {
   "display_name": "Python 3",
   "language": "python",
   "name": "python3"
  },
  "language_info": {
   "codemirror_mode": {
    "name": "ipython",
    "version": 3
   },
   "file_extension": ".py",
   "mimetype": "text/x-python",
   "name": "python",
   "nbconvert_exporter": "python",
   "pygments_lexer": "ipython3",
   "version": "3.6.5"
  }
 },
 "nbformat": 4,
 "nbformat_minor": 2
}
