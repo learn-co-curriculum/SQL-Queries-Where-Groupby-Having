{
 "cells": [
  {
   "cell_type": "markdown",
   "metadata": {
    "slideshow": {
     "slide_type": "slide"
    }
   },
   "source": [
    "<h1 style='text-align: center'>SQL Queries</h1>"
   ]
  },
  {
   "cell_type": "markdown",
   "metadata": {
    "slideshow": {
     "slide_type": "slide"
    }
   },
   "source": [
    "## Getting Data From A SQL Database"
   ]
  },
  {
   "cell_type": "markdown",
   "metadata": {
    "slideshow": {
     "slide_type": "slide"
    }
   },
   "source": [
    "### The Structure of a SQL Query"
   ]
  },
  {
   "cell_type": "markdown",
   "metadata": {
    "slideshow": {
     "slide_type": "slide"
    }
   },
   "source": [
    "<img src='images/sql_statement.jpg'/>"
   ]
  },
  {
   "cell_type": "markdown",
   "metadata": {
    "slideshow": {
     "slide_type": "slide"
    }
   },
   "source": [
    "#### SELECT"
   ]
  },
  {
   "cell_type": "markdown",
   "metadata": {
    "slideshow": {
     "slide_type": "slide"
    }
   },
   "source": [
    "- What columns of data do we want? \n",
    "- Specify by column names or * (All) "
   ]
  },
  {
   "cell_type": "markdown",
   "metadata": {
    "slideshow": {
     "slide_type": "slide"
    }
   },
   "source": [
    "- Where are we getting our data from? \n",
    "- Specify by table name or use join statement to join multiple tables"
   ]
  },
  {
   "cell_type": "markdown",
   "metadata": {
    "slideshow": {
     "slide_type": "slide"
    }
   },
   "source": [
    "##### JOIN "
   ]
  },
  {
   "cell_type": "markdown",
   "metadata": {
    "slideshow": {
     "slide_type": "slide"
    }
   },
   "source": [
    "- Use to join multiple tables \n",
    "- SELECT * FROM students join favorite_foods on students.id = favorite_foods.student_id\n",
    "- SELECT * FROM students as s join favorite_foods as f on s.id = f.student_id"
   ]
  },
  {
   "cell_type": "markdown",
   "metadata": {
    "slideshow": {
     "slide_type": "slide"
    }
   },
   "source": [
    "#### WHERE"
   ]
  },
  {
   "cell_type": "markdown",
   "metadata": {
    "slideshow": {
     "slide_type": "slide"
    }
   },
   "source": [
    "- apply some filter to the data you are querying \n",
    "- define criteria for data that should selected from the database \n",
    "- SELECT * from students WHERE age > 10 "
   ]
  },
  {
   "cell_type": "markdown",
   "metadata": {
    "slideshow": {
     "slide_type": "slide"
    }
   },
   "source": [
    "#### GROUP BY"
   ]
  },
  {
   "cell_type": "markdown",
   "metadata": {
    "slideshow": {
     "slide_type": "slide"
    }
   },
   "source": [
    "- Group columns by similar values\n",
    "- SELECT COUNT(id), city from students GROUP BY city"
   ]
  },
  {
   "cell_type": "markdown",
   "metadata": {
    "slideshow": {
     "slide_type": "slide"
    }
   },
   "source": [
    "#### HAVING"
   ]
  },
  {
   "cell_type": "markdown",
   "metadata": {
    "slideshow": {
     "slide_type": "slide"
    }
   },
   "source": [
    "- Use to apply filter AFTER a GROUP BY based on aggregate criteria \n",
    "- Where is applied for conditions prior to the Group BY, Having is applied afterwards\n",
    "\n",
    "For example, if we had a table of student names and the courses they were taking, we could ask a question such as which classes have 3 or more students with the name Matt?\n",
    "\n",
    "Such a query would look something like this:\n",
    "\n",
    "```SQL\n",
    "select class,\n",
    "       count(student_name) as number_of_matts\n",
    "       FROM student_courses\n",
    "       WHERE student_name = \"Matt\"\n",
    "       Group By 1\n",
    "       HAVING count(student_name) >= 3;\n",
    "```"
   ]
  },
  {
   "cell_type": "code",
   "execution_count": 3,
   "metadata": {
    "slideshow": {
     "slide_type": "slide"
    }
   },
   "outputs": [],
   "source": [
    "import sqlite3\n",
    "\n",
    "conn = sqlite3.connect('tutorial.db')\n",
    "c = conn.cursor()"
   ]
  },
  {
   "cell_type": "code",
   "execution_count": 4,
   "metadata": {
    "scrolled": true,
    "slideshow": {
     "slide_type": "slide"
    }
   },
   "outputs": [],
   "source": [
    "columns = [x[0] for x in c.execute('select * from students').description]"
   ]
  },
  {
   "cell_type": "code",
   "execution_count": 5,
   "metadata": {
    "scrolled": true,
    "slideshow": {
     "slide_type": "slide"
    }
   },
   "outputs": [
    {
     "data": {
      "text/plain": [
       "['name',\n",
       " 'birthdate',\n",
       " 'siblings',\n",
       " 'birth_place',\n",
       " 'years_in_nyc',\n",
       " 'favorite_food']"
      ]
     },
     "execution_count": 5,
     "metadata": {},
     "output_type": "execute_result"
    }
   ],
   "source": [
    "columns"
   ]
  },
  {
   "cell_type": "markdown",
   "metadata": {
    "slideshow": {
     "slide_type": "slide"
    }
   },
   "source": [
    "### Questions\n",
    "1. What are the names of all of the students?\n",
    "2. Which student has the most siblings?\n",
    "3. How many students are only children?\n",
    "4. Which 3 students have lived in NYC the shortest amount of time?\n",
    "5. How many students are native New Yorkers?\n",
    "6. Do any two students have the same favorite food?\n"
   ]
  },
  {
   "cell_type": "markdown",
   "metadata": {
    "slideshow": {
     "slide_type": "notes"
    }
   },
   "source": [
    "1. What are the names of all of the students.\n",
    "\n",
    "> This is a straightforward review question meant to build some repetition and easy practice."
   ]
  },
  {
   "cell_type": "code",
   "execution_count": 6,
   "metadata": {},
   "outputs": [
    {
     "data": {
      "text/plain": [
       "[('Sean Abu Wilson',),\n",
       " ('David Miller',),\n",
       " ('Abhijeet Kamble',),\n",
       " ('Samantha Jackson',),\n",
       " ('Anmol Srivats',),\n",
       " ('Ran Tokman',),\n",
       " ('Amy Li',),\n",
       " ('Florencia Leoni',),\n",
       " ('Austin Krause',),\n",
       " ('Natalie Overchuk',),\n",
       " ('Akshay Sharma',),\n",
       " ('Mohamad Eldebek',),\n",
       " ('Adam Dick',),\n",
       " ('Menachi Korn',),\n",
       " ('Miguel Peña',),\n",
       " ('Atiar Rahman',),\n",
       " ('Fhel Dimaano',),\n",
       " ('Maks Pazuniak',),\n",
       " ('Alex Mitrani',),\n",
       " ('Yish Lim',),\n",
       " ('Nicole Roach',),\n",
       " ('Omer Hakim',)]"
      ]
     },
     "execution_count": 6,
     "metadata": {},
     "output_type": "execute_result"
    }
   ],
   "source": [
    "c.execute('''select name from students''').fetchall()"
   ]
  },
  {
   "cell_type": "markdown",
   "metadata": {
    "slideshow": {
     "slide_type": "notes"
    }
   },
   "source": [
    "2. Which student has the most siblings?\n",
    "\n",
    "> This is great place to use a subquery. Encourage students who are initially struggling with a question along the lines of \"How could you select the largest number of siblings that anyone has in the group?\" From there, you can further push students with a hint if needed: \"How can you now make a selection using the result of this, [embedded as a subquery]?\""
   ]
  },
  {
   "cell_type": "code",
   "execution_count": 7,
   "metadata": {
    "slideshow": {
     "slide_type": "notes"
    }
   },
   "outputs": [
    {
     "data": {
      "text/plain": [
       "[('Florencia Leoni', 4),\n",
       " ('Mohamad Eldebek', 4),\n",
       " ('Menachi Korn', 4),\n",
       " ('Miguel Peña', 4)]"
      ]
     },
     "execution_count": 7,
     "metadata": {},
     "output_type": "execute_result"
    }
   ],
   "source": [
    "c.execute(\"\"\"SELECT name, siblings\n",
    "FROM students\n",
    "WHERE siblings = (SELECT MAX(siblings) FROM students);\"\"\").fetchall()\n",
    "[('Florencia Leoni', 4),\n",
    " ('Mohamad Eldebek', 4),\n",
    " ('Menachi Korn', 4),\n",
    " ('Miguel Peña', 4)]"
   ]
  },
  {
   "cell_type": "markdown",
   "metadata": {
    "slideshow": {
     "slide_type": "notes"
    }
   },
   "source": [
    "3. How many students are only children?\n",
    "\n",
    "> This is considerably easier then question 2. Students can simply place a selection filtered by a where clause. A simple aggregate is also required."
   ]
  },
  {
   "cell_type": "code",
   "execution_count": 8,
   "metadata": {
    "slideshow": {
     "slide_type": "notes"
    }
   },
   "outputs": [
    {
     "data": {
      "text/plain": [
       "(3,)"
      ]
     },
     "execution_count": 8,
     "metadata": {},
     "output_type": "execute_result"
    }
   ],
   "source": [
    "c.execute(\"\"\"SELECT COUNT(name)\n",
    "FROM students\n",
    "WHERE siblings = 0;\"\"\").fetchone()"
   ]
  },
  {
   "cell_type": "markdown",
   "metadata": {
    "slideshow": {
     "slide_type": "notes"
    }
   },
   "source": [
    "4. Which 3 students have lived in NYC the shortest amount of time? [How long has each lived in NYC?]\n",
    "    > Also considerably easier then the previous two questions. This problem requires a simple order by and limit clauses.\n",
    "    "
   ]
  },
  {
   "cell_type": "code",
   "execution_count": 9,
   "metadata": {
    "slideshow": {
     "slide_type": "notes"
    }
   },
   "outputs": [
    {
     "data": {
      "text/plain": [
       "[('Anmol Srivats', 0.05), ('Natalie Overchuk', 0.1), ('Austin Krause', 0.17)]"
      ]
     },
     "execution_count": 9,
     "metadata": {},
     "output_type": "execute_result"
    }
   ],
   "source": [
    "c.execute('''SELECT name, years_in_nyc from students order by 2 limit 3\n",
    "''').fetchall()"
   ]
  },
  {
   "cell_type": "markdown",
   "metadata": {
    "slideshow": {
     "slide_type": "notes"
    }
   },
   "source": [
    "5. How many students are native New Yorkers?\n",
    "\n",
    "> This place can be tricky depending on how the problem is formulated. For one, are we talking New York City or New York State? If we mean the former, NYC, then the answer below actually would include other non-relevant results. \n",
    "\n",
    "It can also be worth noting the difference between like and ilike in this context; ilike being case sensitive while like will ignore all caps. If you wish to further progress this conversation, you can also ask students how they might compare the functionality of like and ilike using python string methods."
   ]
  },
  {
   "cell_type": "code",
   "execution_count": 13,
   "metadata": {
    "slideshow": {
     "slide_type": "notes"
    }
   },
   "outputs": [
    {
     "data": {
      "text/plain": [
       "[('David Miller', 'New York, NY'),\n",
       " ('Amy Li', 'New York, NY'),\n",
       " ('Akshay Sharma', 'New York, NY'),\n",
       " ('Adam Dick', 'New York, NY'),\n",
       " ('Alex Mitrani', 'New York, NY'),\n",
       " ('Nicole Roach', 'Brooklyn, NY')]"
      ]
     },
     "execution_count": 13,
     "metadata": {},
     "output_type": "execute_result"
    }
   ],
   "source": [
    "c.execute('''select  name, birth_place from Students where birth_place like '%NY' ''').fetchall()\n"
   ]
  },
  {
   "cell_type": "markdown",
   "metadata": {
    "slideshow": {
     "slide_type": "notes"
    }
   },
   "source": [
    "6. Do any two students have the same favorite food?\n",
    "\n",
    "This problem employs the `Having` clause.  Be sure to review the difference between the where and having clause here. (Where filters apply before the group by clause and conditions following the having clause are filters applied after the group by on the resulting aggregate [statistics].) A useful example in doing so, could be to modify the question to something with an additional filtering criterion such as 'do any native new yorkers have the same favorite food?' This would force students to use a where clause prior to the group by to filter the results. Alternatively, see the question below for an alternative but related problem on favorite foods."
   ]
  },
  {
   "cell_type": "code",
   "execution_count": 14,
   "metadata": {
    "slideshow": {
     "slide_type": "notes"
    }
   },
   "outputs": [
    {
     "data": {
      "text/plain": [
       "[('pizza', 2), ('steak', 2)]"
      ]
     },
     "execution_count": 14,
     "metadata": {},
     "output_type": "execute_result"
    }
   ],
   "source": [
    "c.execute(\"\"\"SELECT favorite_food, count(favorite_food)\n",
    "FROM students\n",
    "GROUP BY favorite_food\n",
    "HAVING count(favorite_food) > 1\n",
    "\"\"\").fetchall()"
   ]
  },
  {
   "cell_type": "markdown",
   "metadata": {
    "slideshow": {
     "slide_type": "notes"
    }
   },
   "source": [
    "## More Questions"
   ]
  },
  {
   "cell_type": "markdown",
   "metadata": {
    "slideshow": {
     "slide_type": "notes"
    }
   },
   "source": [
    "What are the favorite foods of this classroom?"
   ]
  },
  {
   "cell_type": "code",
   "execution_count": 12,
   "metadata": {
    "slideshow": {
     "slide_type": "notes"
    }
   },
   "outputs": [
    {
     "data": {
      "text/plain": [
       "[('pizza', 2),\n",
       " ('steak', 2),\n",
       " ('Avocado', 1),\n",
       " ('Biriyani', 1),\n",
       " ('Everything Bagels', 1),\n",
       " ('Fusilli Sorrentina', 1),\n",
       " ('Kare Kare', 1),\n",
       " ('Reeses Puffs', 1),\n",
       " ('Sushi', 1),\n",
       " ('Tabouleh', 1),\n",
       " ('burgers', 1),\n",
       " ('cheesecake', 1),\n",
       " ('chocolate chip cookies', 1),\n",
       " ('dumplings', 1),\n",
       " ('falafel', 1),\n",
       " ('guacamole', 1),\n",
       " ('noodles', 1),\n",
       " ('pasta', 1),\n",
       " ('pho', 1),\n",
       " ('rice', 1)]"
      ]
     },
     "execution_count": 12,
     "metadata": {},
     "output_type": "execute_result"
    }
   ],
   "source": [
    "c.execute(\"\"\"select favorite_food, count(*) from students group by 1 order by count(*) desc;\"\"\").fetchall()"
   ]
  },
  {
   "cell_type": "markdown",
   "metadata": {
    "slideshow": {
     "slide_type": "notes"
    }
   },
   "source": [
    "7. Which student was born closest to the cohort's graduation date?\n",
    "\n",
    "> This question is in development. It attempts to show some of the difficulties surrounding poorly formatted dates but may be too problematic as an exercise."
   ]
  },
  {
   "cell_type": "code",
   "execution_count": 16,
   "metadata": {
    "slideshow": {
     "slide_type": "notes"
    }
   },
   "outputs": [
    {
     "data": {
      "text/plain": [
       "[('Nicole Roach', 3.0)]"
      ]
     },
     "execution_count": 16,
     "metadata": {},
     "output_type": "execute_result"
    }
   ],
   "source": [
    "c.execute('''\n",
    "SELECT name,\n",
    "abs(julianday('2018-' || substr(birthdate,1,2) || '-' || substr(birthdate,4,2)) - julianday('2018-06-19'))\n",
    "FROM students\n",
    "ORDER BY 2\n",
    "LIMIT 1\n",
    "''').fetchall() "
   ]
  }
 ],
 "metadata": {
  "celltoolbar": "Slideshow",
  "kernelspec": {
   "display_name": "Python 3",
   "language": "python",
   "name": "python3"
  },
  "language_info": {
   "codemirror_mode": {
    "name": "ipython",
    "version": 3
   },
   "file_extension": ".py",
   "mimetype": "text/x-python",
   "name": "python",
   "nbconvert_exporter": "python",
   "pygments_lexer": "ipython3",
   "version": "3.6.5"
  }
 },
 "nbformat": 4,
 "nbformat_minor": 2
}
